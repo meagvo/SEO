{
 "cells": [
  {
   "cell_type": "markdown",
   "metadata": {},
   "source": [
    "## Clean GSC Excel Exports\n",
    "\n",
    "Instructions: Export excel file from GSC with a target date range and a comparison date range. Save the excel file in this directory with the client name as the file name. Enter client name as input and run function to export a clean page and query file with %change in clicks, impressions, and change in CTR and position"
   ]
  },
  {
   "cell_type": "code",
   "execution_count": null,
   "metadata": {},
   "outputs": [],
   "source": [
    "import pandas as pd\n",
    "def GSC_Date_Comparison():\n",
    "\n",
    "     \n",
    "    clientname=input(\"Enter Client Domain Name (excluding https:// and excluding .com/\")\n",
    "    file=clientname+'.xlsx'\n",
    "    xls = pd.ExcelFile(file)\n",
    "    df_pages = pd.read_excel(xls, sheet_name=\"Pages\")\n",
    "    df_queries = pd.read_excel(xls, sheet_name=\"Queries\")\n",
    "    df_pages['Page'] = df_pages['Top pages'].str.split('.com/').str[-1]\n",
    "    df_pages['Page'].replace('', 'HP', inplace=True)\n",
    "    df_pages.columns=['URL', 'Clicks', 'Clicks Previous', 'Impressions', 'Impressions Previous', 'CTR', 'CTR Previous', 'Position', 'Position Previous', 'Page']\n",
    "    df_pages['ClicksChange']=round(((df_pages['Clicks']-df_pages['Clicks Previous'])/df_pages['Clicks Previous'])*100, 2)\n",
    "    df_pages['ImpressionsChange']=round(((df_pages['Impressions']-df_pages['Impressions Previous'])/df_pages['Impressions Previous'])*100, 2)\n",
    "    df_pages['CTRChange']=round(((df_pages['CTR']-df_pages['CTR Previous'])) ,2)\n",
    "    df_pages['PositionChange']=round(((df_pages['Position']-df_pages['Position Previous'])/df_pages['Position Previous'])*100, 2)\n",
    "    df_pages=df_pages[['Page', 'Clicks', 'Clicks Previous', 'ClicksChange', 'Impressions', 'Impressions Previous', 'ImpressionsChange', 'CTR', 'CTR Previous',  'CTRChange', 'Position', 'Position Previous', 'PositionChange']]\n",
    "    df_queries.columns=['Query', 'Clicks', 'Clicks Previous', 'Impressions', 'Impressions Previous', 'CTR', 'CTR Previous', 'Position', 'Position Previous']\n",
    "    df_queries['ClicksChange']=round(((df_queries['Clicks']-df_queries['Clicks Previous'])/df_queries['Clicks Previous'])*100, 2)\n",
    "    df_queries['ImpressionsChange']=round(((df_queries['Impressions']-df_queries['Impressions Previous'])/df_queries['Impressions Previous'])*100, 2)\n",
    "    df_queries['CTRChange']=round(((df_queries['CTR']-df_queries['CTR Previous'])/df_queries['CTR Previous'])*100, 2)\n",
    "    df_queries['PositionChange']=round((df_queries['Position']-df_queries['Position Previous']), 2)\n",
    "    df_queries=df_queries[['Query', 'Clicks', 'Clicks Previous', 'ClicksChange', 'Impressions', 'Impressions Previous', 'ImpressionsChange', 'CTR', 'CTR Previous',  'CTRChange', 'Position', 'Position Previous', 'PositionChange']]\n",
    "    pages=clientname+'_pages.csv'\n",
    "    df_pages.to_csv(pages)\n",
    "    queries=clientname+'_queries.csv'\n",
    "    df_queries.to_csv(queries)\n",
    "\n",
    "\n",
    "\n"
   ]
  },
  {
   "cell_type": "code",
   "execution_count": null,
   "metadata": {},
   "outputs": [],
   "source": [
    "GSC_Date_Comparison()"
   ]
  },
  {
   "cell_type": "code",
   "execution_count": null,
   "metadata": {},
   "outputs": [],
   "source": []
  }
 ],
 "metadata": {
  "kernelspec": {
   "display_name": "Python 3.10.9 64-bit (microsoft store)",
   "language": "python",
   "name": "python3"
  },
  "language_info": {
   "codemirror_mode": {
    "name": "ipython",
    "version": 3
   },
   "file_extension": ".py",
   "mimetype": "text/x-python",
   "name": "python",
   "nbconvert_exporter": "python",
   "pygments_lexer": "ipython3",
   "version": "3.10.11"
  },
  "orig_nbformat": 4,
  "vscode": {
   "interpreter": {
    "hash": "8366c1e39c98c6a0806ccbf338f0e9f8d392b50c79c4d61aad36251f766f14c7"
   }
  }
 },
 "nbformat": 4,
 "nbformat_minor": 2
}
